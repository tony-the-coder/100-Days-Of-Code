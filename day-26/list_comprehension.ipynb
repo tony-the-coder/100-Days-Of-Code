{
 "cells": [
  {
   "cell_type": "code",
   "execution_count": 3,
   "metadata": {},
   "outputs": [
    {
     "name": "stdout",
     "output_type": "stream",
     "text": [
      "[2, 3, 4]\n"
     ]
    }
   ],
   "source": [
    "\"\"\"Initial example of list comprehension\"\"\"\n",
    "\n",
    "# We can use a for loop to add numbers in a list to a value\n",
    "\n",
    "numbers = [1, 2, 3]\n",
    "new_list = []\n",
    "for n in numbers:\n",
    "    add = n + 1\n",
    "    new_list.append(add)\n",
    "print(new_list)\n",
    "\n",
    "\n"
   ]
  },
  {
   "cell_type": "code",
   "execution_count": 4,
   "metadata": {},
   "outputs": [
    {
     "name": "stdout",
     "output_type": "stream",
     "text": [
      "[2, 3, 4]\n"
     ]
    }
   ],
   "source": [
    "\"\"\"Yippee!!! A basic list comprehension that I do wish was covered in my current school\n",
    "course because I am not sure if I can use it in my exam even though I was able\n",
    "to do it in the preassessment. This is basically a review to help my timeline, lol.\"\"\"\n",
    "\"\"\"The basic format for list comprehension is:\n",
    "new_list = [new_item for item in list]\"\"\"\n",
    "new_list_2 = [n + 1 for n in numbers]\n",
    "print(new_list_2)\n"
   ]
  },
  {
   "cell_type": "code",
   "execution_count": null,
   "metadata": {},
   "outputs": [],
   "source": [
    "''' It is important to remember that just because it is called List Comprehension, it does not meant it will work only on lists. \n",
    "It can work on\n",
    "list\n",
    "range\n",
    "string\n",
    "tuple\n",
    "and then some. '''"
   ]
  },
  {
   "cell_type": "code",
   "execution_count": 9,
   "metadata": {},
   "outputs": [
    {
     "name": "stdout",
     "output_type": "stream",
     "text": [
      "[2, 4, 6, 8]\n",
      "[2, 4, 6, 8]\n"
     ]
    }
   ],
   "source": [
    "'''A range'''\n",
    "\n",
    "for_range = []\n",
    "# A basic for loop\n",
    "for x in range(1,5):\n",
    "    x*=2 \n",
    "    for_range.append(x)\n",
    "print(for_range)\n",
    "\n",
    "my_range = [x*2 for x in range(1,5)]\n",
    "print(my_range)"
   ]
  },
  {
   "cell_type": "code",
   "execution_count": 16,
   "metadata": {},
   "outputs": [
    {
     "name": "stdout",
     "output_type": "stream",
     "text": [
      "['Alex', 'Beth', 'Dave']\n",
      "['CAROLINE', 'ELANOR', 'FREDDIE']\n"
     ]
    }
   ],
   "source": [
    "'''A conditional list comprehension\n",
    "new_list = [new_item for item in list if test]'''\n",
    "\n",
    "names = [\"Alex\", \"Beth\", \"Caroline\", \"Dave\", \"Elanor\", \"Freddie\"]\n",
    "\n",
    "names_list = [name for name in names if len(name) < 5 ]\n",
    "print(names_list)\n",
    "\n",
    "'''Assigned so called challenge, lol'''\n",
    "\n",
    "upper_names = [name.upper() for name in names if len(name) > 4]\n",
    "print(upper_names)\n",
    "\n"
   ]
  },
  {
   "cell_type": "code",
   "execution_count": 17,
   "metadata": {},
   "outputs": [
    {
     "name": "stdout",
     "output_type": "stream",
     "text": [
      "[1, 1, 4, 9, 25, 64, 169, 441, 1156, 3025]\n"
     ]
    }
   ],
   "source": [
    "'''Coding excercise 15: Squareing Numbers'''\n",
    "numbers = [1, 1, 2, 3, 5, 8, 13, 21, 34, 55]\n",
    "squared_numbers = [sq**2 for sq in numbers]\n",
    "print(squared_numbers)"
   ]
  },
  {
   "cell_type": "code",
   "execution_count": 20,
   "metadata": {},
   "outputs": [
    {
     "name": "stdout",
     "output_type": "stream",
     "text": [
      "[0, 32, 8, 2, 8, 64, 42]\n"
     ]
    }
   ],
   "source": [
    "'''Coding excercise 16: \n",
    "Filtering Even Numbers\n",
    "In this list comprehension exercise you will practice using list comprehension to filter out the even numbers from a series of numbers.   \n",
    "\n",
    "\n",
    "\n",
    "First, use list comprehension to convert the list_of_strings to a list of integers called numbers.   \n",
    "\n",
    "Then use list comprehension again to create a new list called result.\n",
    "\n",
    "This new list should only contain the even numbers from the list numbers. \n",
    "\n",
    "Again, try to use Python's List Comprehension instead of a Loop.\n",
    "\n",
    "'''\n",
    "\n",
    "list_of_strings = ['9', '0', '32', '8', '2', '8', '64', '29', '42', '99']\n",
    "numbers = [int(num) for num in list_of_strings]\n",
    "result = [even for even in numbers if even % 2 == 0]\n",
    "print(result)\n"
   ]
  },
  {
   "cell_type": "code",
   "execution_count": 27,
   "metadata": {},
   "outputs": [
    {
     "name": "stdout",
     "output_type": "stream",
     "text": [
      "[3, 6, 5, 8, 33, 12, 7, 4, 72, 2, 42, 13]\n"
     ]
    }
   ],
   "source": [
    "'''Coding excertcise 17:\n",
    "\n",
    "\n",
    "Data Overlap\n",
    "💪 This exercise is HARD 💪 \n",
    "\n",
    "Take a look inside file1.txt and file2.txt. They each contain a bunch of numbers, each number on a new line. \n",
    "\n",
    "You are going to create a list called result which contains the numbers that are common in both files. \n",
    "\n",
    "e.g. if file1.txt contained: \n",
    "\n",
    "1 \n",
    "\n",
    "2 \n",
    "\n",
    "3\n",
    "\n",
    "and file2.txt contained: \n",
    "\n",
    "2\n",
    "\n",
    "3\n",
    "\n",
    "4\n",
    "\n",
    "result = [2, 3]\n",
    "\n",
    "\n",
    "\n",
    "IMPORTANT:  The output should be a list of integers and not strings!\n",
    "\n",
    "Try to use List Comprehension instead of a Loop.\n",
    "\n",
    "I could not figure out why it would not pass, my secon open was set as file1.txt so I did it right, except I was comparing the list to itself. \n",
    "'''\n",
    "with open('file1.txt') as f:\n",
    "    list_1 = f.readlines()\n",
    "   \n",
    "\n",
    "with open('file2.txt') as g:\n",
    "    list_2 = g.readlines()\n",
    "    # print(type(x))\n",
    "\n",
    "result = [int(num) for num in list_1 if num in list_2]\n",
    "print(result)\n"
   ]
  }
 ],
 "metadata": {
  "kernelspec": {
   "display_name": ".venv",
   "language": "python",
   "name": "python3"
  },
  "language_info": {
   "codemirror_mode": {
    "name": "ipython",
    "version": 3
   },
   "file_extension": ".py",
   "mimetype": "text/x-python",
   "name": "python",
   "nbconvert_exporter": "python",
   "pygments_lexer": "ipython3",
   "version": "3.12.5"
  }
 },
 "nbformat": 4,
 "nbformat_minor": 2
}
