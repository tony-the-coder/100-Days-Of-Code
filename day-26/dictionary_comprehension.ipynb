{
 "cells": [
  {
   "cell_type": "code",
   "execution_count": 6,
   "metadata": {},
   "outputs": [
    {
     "data": {
      "text/plain": [
       "{'Elanor': 93, 'Freddie': 100}"
      ]
     },
     "execution_count": 6,
     "metadata": {},
     "output_type": "execute_result"
    }
   ],
   "source": [
    "import random\n",
    "'''List comprehension with Dictionaries\n",
    "The basic format is:\n",
    "new_diction = {new_key:new_value for item in list}\n",
    "You can create a new dictionary based on the values of an existing dictionary\n",
    "new_dict = {new_key:new_value for (key, value() in dict.items() if test}\n",
    "'''\n",
    "names = [\"Alex\", \"Beth\", \"Caroline\", \"Dave\", \"Elanor\", \"Freddie\"]\n",
    "\n",
    "student_scores = {student:random.randint(1,100) for student in names}\n",
    "student_scores\n",
    "\n",
    "passed_students = {students:score for (students, score) in student_scores.items() if score >=60}\n",
    "passed_students \n",
    "\n"
   ]
  },
  {
   "cell_type": "code",
   "execution_count": 9,
   "metadata": {},
   "outputs": [
    {
     "data": {
      "text/plain": [
       "{'What': 4,\n",
       " 'is': 2,\n",
       " 'the': 3,\n",
       " 'Airspeed': 8,\n",
       " 'Velocity': 8,\n",
       " 'of': 2,\n",
       " 'an': 2,\n",
       " 'Unladen': 7,\n",
       " 'Swallow?': 8}"
      ]
     },
     "execution_count": 9,
     "metadata": {},
     "output_type": "execute_result"
    }
   ],
   "source": [
    "'''Coding excercise 18: Dictionary Comprehension 1\n",
    "You are going to use Dictionary Comprehension to create a dictionary called result that takes each word in the given sentence and calculates the number of letters in each word.   \n",
    "\n",
    "Try Googling to find out how to convert a sentence into a list of words.  *\n",
    "\n",
    "*Do NOT** Create a dictionary directly.\n",
    "\n",
    "Try to use Dictionary Comprehension instead of a Loop. \n",
    "\n",
    "\n",
    "\n",
    "To keep this exercise simple, count any punctuation following a word with no whitespace as part of the word. Note that \"Swallow?\" therefore has a length of 8.'''\n",
    "\n",
    "\n",
    "sentence = \"What is the Airspeed Velocity of an Unladen Swallow?\"\n",
    "result = {word:len(word) for word in sentence.split()}\n",
    "result\n"
   ]
  },
  {
   "cell_type": "code",
   "execution_count": 11,
   "metadata": {},
   "outputs": [
    {
     "name": "stdout",
     "output_type": "stream",
     "text": [
      "{'Monday': 53.6, 'Tuesday': 57.2, 'Wednesday': 59.0, 'Thursday': 57.2, 'Friday': 69.8, 'Saturday': 71.6, 'Sunday': 75.2}\n"
     ]
    }
   ],
   "source": [
    "'''Coding excercise 19: \n",
    "Dictionary Comprehension 2\n",
    "You are going to use Dictionary Comprehension to create a dictionary called weather_f that takes each temperature in degrees Celsius and converts it into degrees Fahrenheit. \n",
    "\n",
    "\n",
    "\n",
    "To convert temp_c into temp_f use this formula: \n",
    "\n",
    "(temp_c * 9/5) + 32 = temp_f\n",
    "\n",
    "\n",
    "\n",
    "Celsius to Fahrenheit chart\n",
    "\n",
    "'''\n",
    "\n",
    "\n",
    "weather_c = {\"Monday\": 12, \"Tuesday\": 14, \"Wednesday\": 15, \"Thursday\": 14, \"Friday\": 21, \"Saturday\": 22, \"Sunday\": 24}\n",
    "\n",
    "weather_f = {day:((temp * 9/5)+32) for (day, temp) in weather_c.items()}\n",
    "\n",
    "print(weather_f)"
   ]
  },
  {
   "cell_type": "code",
   "execution_count": 2,
   "metadata": {},
   "outputs": [
    {
     "name": "stdout",
     "output_type": "stream",
     "text": [
      "Collecting pandas\n",
      "  Using cached pandas-2.2.3-cp312-cp312-win_amd64.whl.metadata (19 kB)\n",
      "Collecting numpy>=1.26.0 (from pandas)\n",
      "  Using cached numpy-2.1.2-cp312-cp312-win_amd64.whl.metadata (59 kB)\n",
      "Requirement already satisfied: python-dateutil>=2.8.2 in c:\\users\\tonyt\\desktop\\100 days of code\\day-26\\.venv\\lib\\site-packages (from pandas) (2.9.0.post0)\n",
      "Collecting pytz>=2020.1 (from pandas)\n",
      "  Using cached pytz-2024.2-py2.py3-none-any.whl.metadata (22 kB)\n",
      "Collecting tzdata>=2022.7 (from pandas)\n",
      "  Using cached tzdata-2024.2-py2.py3-none-any.whl.metadata (1.4 kB)\n",
      "Requirement already satisfied: six>=1.5 in c:\\users\\tonyt\\desktop\\100 days of code\\day-26\\.venv\\lib\\site-packages (from python-dateutil>=2.8.2->pandas) (1.16.0)\n",
      "Using cached pandas-2.2.3-cp312-cp312-win_amd64.whl (11.5 MB)\n",
      "Using cached numpy-2.1.2-cp312-cp312-win_amd64.whl (12.6 MB)\n",
      "Using cached pytz-2024.2-py2.py3-none-any.whl (508 kB)\n",
      "Using cached tzdata-2024.2-py2.py3-none-any.whl (346 kB)\n",
      "Installing collected packages: pytz, tzdata, numpy, pandas\n",
      "Successfully installed numpy-2.1.2 pandas-2.2.3 pytz-2024.2 tzdata-2024.2\n",
      "Note: you may need to restart the kernel to use updated packages.\n"
     ]
    }
   ],
   "source": [
    "%pip install pandas\n"
   ]
  },
  {
   "cell_type": "code",
   "execution_count": 4,
   "metadata": {},
   "outputs": [
    {
     "name": "stdout",
     "output_type": "stream",
     "text": [
      "student\n",
      "score\n",
      "0    Angela\n",
      "1     James\n",
      "2      Lily\n",
      "Name: student, dtype: object\n",
      "0    56\n",
      "1    76\n",
      "2    98\n",
      "Name: score, dtype: int64\n",
      "0\n",
      "1\n",
      "2\n"
     ]
    }
   ],
   "source": [
    "import pandas as pd\n",
    "'''Iterating over a Panda DataFrame'''\n",
    "student_dict = {\n",
    "    \"student\": [\"Angela\", \"James\", \"Lily\"],\n",
    "    \"score\": [56, 76, 98]\n",
    "}\n",
    "\n",
    "for (key, value) in student_dict.items():\n",
    "    print(key)\n",
    "\n",
    "student_data_frame = pd.DataFrame(student_dict)\n",
    "# print(student_data_frame)\n",
    "\n",
    "\n",
    "\n",
    "for (key,value) in student_data_frame.items():\n",
    "    print(value)\n",
    "\n",
    "\n",
    "\n"
   ]
  },
  {
   "cell_type": "code",
   "execution_count": 9,
   "metadata": {},
   "outputs": [
    {
     "name": "stdout",
     "output_type": "stream",
     "text": [
      "Angela\n",
      "56\n",
      "James\n",
      "76\n",
      "Lily\n",
      "98\n"
     ]
    }
   ],
   "source": [
    "#Now we loop through the dataframe\n",
    "for (index, row) in student_data_frame.iterrows():\n",
    "    print(row.student)\n",
    "    print(row.score)"
   ]
  }
 ],
 "metadata": {
  "kernelspec": {
   "display_name": ".venv",
   "language": "python",
   "name": "python3"
  },
  "language_info": {
   "codemirror_mode": {
    "name": "ipython",
    "version": 3
   },
   "file_extension": ".py",
   "mimetype": "text/x-python",
   "name": "python",
   "nbconvert_exporter": "python",
   "pygments_lexer": "ipython3",
   "version": "3.12.5"
  }
 },
 "nbformat": 4,
 "nbformat_minor": 2
}
