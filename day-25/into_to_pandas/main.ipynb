{
 "cells": [
  {
   "cell_type": "code",
   "execution_count": 1,
   "metadata": {},
   "outputs": [
    {
     "name": "stdout",
     "output_type": "stream",
     "text": [
      "Requirement already satisfied: pandas in c:\\users\\tonyt\\desktop\\100 days of code\\day-25\\.venv\\lib\\site-packages (2.2.3)\n",
      "Requirement already satisfied: numpy>=1.26.0 in c:\\users\\tonyt\\desktop\\100 days of code\\day-25\\.venv\\lib\\site-packages (from pandas) (2.1.2)\n",
      "Requirement already satisfied: python-dateutil>=2.8.2 in c:\\users\\tonyt\\desktop\\100 days of code\\day-25\\.venv\\lib\\site-packages (from pandas) (2.9.0.post0)\n",
      "Requirement already satisfied: pytz>=2020.1 in c:\\users\\tonyt\\desktop\\100 days of code\\day-25\\.venv\\lib\\site-packages (from pandas) (2024.2)\n",
      "Requirement already satisfied: tzdata>=2022.7 in c:\\users\\tonyt\\desktop\\100 days of code\\day-25\\.venv\\lib\\site-packages (from pandas) (2024.2)\n",
      "Requirement already satisfied: six>=1.5 in c:\\users\\tonyt\\desktop\\100 days of code\\day-25\\.venv\\lib\\site-packages (from python-dateutil>=2.8.2->pandas) (1.16.0)\n",
      "Note: you may need to restart the kernel to use updated packages.\n"
     ]
    }
   ],
   "source": [
    "%pip install pandas"
   ]
  },
  {
   "cell_type": "code",
   "execution_count": 1,
   "metadata": {},
   "outputs": [],
   "source": [
    "import csv\n",
    "import pandas as pd"
   ]
  },
  {
   "cell_type": "code",
   "execution_count": 26,
   "metadata": {},
   "outputs": [
    {
     "name": "stdout",
     "output_type": "stream",
     "text": [
      "[12, 14, 15, 14, 21, 22, 24]\n"
     ]
    }
   ],
   "source": [
    "'''This loops through a CSV file and prints out the temperatures in the file. It skips the first row because it is the header row. This is a basic way to read a CSV file\n",
    "The basic way to read a CSV file. I am just going through the course and following step-by-step to ensure that everything is done correctly'''\n",
    "\n",
    "with open('weather_data.csv') as data_file:\n",
    "    data = csv.reader(data_file)\n",
    "    temperatures = []\n",
    "    for row in data:\n",
    "        if row[1] != 'temp':\n",
    "            temperatures.append(int(row[1]))\n",
    "    print(temperatures)"
   ]
  },
  {
   "cell_type": "code",
   "execution_count": 31,
   "metadata": {},
   "outputs": [
    {
     "name": "stdout",
     "output_type": "stream",
     "text": [
      "0    12\n",
      "1    14\n",
      "2    15\n",
      "3    14\n",
      "4    21\n",
      "5    22\n",
      "6    24\n",
      "Name: temp, dtype: int64\n"
     ]
    }
   ],
   "source": [
    "'''A basic introduction to Pandas. It is not as indepth as the Google Data Analysis Advanced course, but it is a good refresher. \n",
    "I will be using this to read the CSV file and print out the temperatures'''\n",
    "\n",
    "#This looks nicer, but it is not the way it is done in the course. I will be following the course step-by-step\n",
    "# pd.read_csv('weather_data.csv')\n",
    "data = pd.read_csv('weather_data.csv')\n",
    "print(data['temp'])\n",
    "\n"
   ]
  },
  {
   "cell_type": "code",
   "execution_count": 33,
   "metadata": {},
   "outputs": [
    {
     "name": "stdout",
     "output_type": "stream",
     "text": [
      "<class 'pandas.core.frame.DataFrame'>\n",
      "<class 'pandas.core.series.Series'>\n"
     ]
    }
   ],
   "source": [
    "# pandas.core.frame.DataFrame\n",
    "print(type(data))\n",
    "# <class 'pandas.core.series.Series'>\n",
    "print(type(data['temp']))"
   ]
  },
  {
   "cell_type": "code",
   "execution_count": 68,
   "metadata": {},
   "outputs": [
    {
     "name": "stdout",
     "output_type": "stream",
     "text": [
      "      day  temp condition\n",
      "6  Sunday    24     Sunny\n"
     ]
    }
   ],
   "source": [
    "data_dict = data.to_dict()\n",
    "\n",
    "print(\"A dictionary made from a CSV file\", data_dict)\n",
    "\n",
    "\n",
    "\n"
   ]
  },
  {
   "cell_type": "code",
   "execution_count": null,
   "metadata": {},
   "outputs": [],
   "source": [
    "temp_list = data['temp'].to_list()\n",
    "\n",
    "print(\"Tartgeting an actual column with Pandas\", temp_list)\n",
    "\n"
   ]
  },
  {
   "cell_type": "code",
   "execution_count": null,
   "metadata": {},
   "outputs": [],
   "source": [
    "# # Gets the average of the temperatures\n",
    "# avg = round(sum(temp_list)/len(temp_list), 2)\n",
    "\n",
    "# # Gets the average of the temperatures using the pandas library function\n",
    "# avg_2 = round(data['temp'].mean(), 2)\n",
    "\n",
    "\n",
    "\n",
    "# print(\"Average without Pandas\", avg , \"\\n\")\n",
    "# print(\"Average with Pandas\", avg_2 , \"\\n\")\n"
   ]
  },
  {
   "cell_type": "code",
   "execution_count": null,
   "metadata": {},
   "outputs": [],
   "source": [
    "# # Gets the max temperature using Pandas\n",
    "# max_temp = data['temp'].max()\n",
    "\n",
    "\n",
    "\n",
    "\n",
    "# print(\"Max temp with Pandas\", max_temp , \"\\n\")\n"
   ]
  },
  {
   "cell_type": "code",
   "execution_count": null,
   "metadata": {},
   "outputs": [],
   "source": [
    "# conditions = data['condition']\n",
    "\n",
    "# # Another way to access a specific column\n",
    "# conditions_2 = data.condition\n",
    "\n",
    "\n",
    "\n",
    "\n",
    "\n",
    "# print(\"Condition column without Pandas and using bracket notation\" + \"\\n\", conditions, \"\\n\")\n",
    "# print(\"Condition columns with Pandas using dot notation\" + \"\\n\" , conditions_2)\n",
    "\n",
    "\n"
   ]
  },
  {
   "cell_type": "code",
   "execution_count": null,
   "metadata": {},
   "outputs": [],
   "source": [
    "# # Getting information from a row using Pandas\n",
    "# day_row = data[data.day == 'Monday']\n",
    "\n",
    "# print(\"Row\", day_row)\n"
   ]
  },
  {
   "cell_type": "code",
   "execution_count": 76,
   "metadata": {},
   "outputs": [
    {
     "name": "stdout",
     "output_type": "stream",
     "text": [
      "      day  temp condition\n",
      "6  Sunday    24     Sunny\n",
      "      day  temp condition\n",
      "6  Sunday    24     Sunny\n",
      "0    Sunny\n",
      "Name: condition, dtype: object\n",
      "0    12\n",
      "Name: temp, dtype: int64\n",
      "0    53.6\n",
      "Name: temp, dtype: float64\n"
     ]
    }
   ],
   "source": [
    "'''The simple challenge here is to get the row of data where the temperature was at the maximum'''\n",
    "\n",
    "max_day = data[data.temp == max(data.temp)]\n",
    "print(max_day)\n",
    "\n",
    "max_day2 = data[data.temp == data.temp.max()]\n",
    "print(max_day2)\n",
    "\n",
    "monday = data[data.day == \"Monday\"]\n",
    "print(monday.condition)\n",
    "\n",
    "mon_temp = monday.temp\n",
    "\n",
    "mon_c_to_f = (9/5) * mon_temp + 32\n",
    "\n",
    "print(mon_temp)\n",
    "\n",
    "print(mon_c_to_f)\n",
    "\n"
   ]
  },
  {
   "cell_type": "code",
   "execution_count": 78,
   "metadata": {},
   "outputs": [
    {
     "name": "stdout",
     "output_type": "stream",
     "text": [
      "  students  scores\n",
      "0      Amy      76\n",
      "1    James      56\n",
      "2   Angela      65\n"
     ]
    }
   ],
   "source": [
    "'''Creating a dataframe from scratch'''\n",
    "\n",
    "data_dict = {\n",
    "    \"students\": [\"Amy\", \"James\", \"Angela\"],\n",
    "    \"scores\": [76, 56, 65]\n",
    "}\n",
    "\n",
    "data = pd.DataFrame(data_dict)\n",
    "data.to_csv(\"new_data.csv\")\n",
    "print(data)\n"
   ]
  },
  {
   "cell_type": "code",
   "execution_count": 93,
   "metadata": {},
   "outputs": [
    {
     "name": "stdout",
     "output_type": "stream",
     "text": [
      "['X', 'Y', 'Unique Squirrel ID', 'Hectare', 'Shift', 'Date', 'Hectare Squirrel Number', 'Age', 'Primary Fur Color', 'Highlight Fur Color', 'Combination of Primary and Highlight Color', 'Color notes', 'Location', 'Above Ground Sighter Measurement', 'Specific Location', 'Running', 'Chasing', 'Climbing', 'Eating', 'Foraging', 'Other Activities', 'Kuks', 'Quaas', 'Moans', 'Tail flags', 'Tail twitches', 'Approaches', 'Indifferent', 'Runs from', 'Other Interactions', 'Lat/Long']\n"
     ]
    }
   ],
   "source": [
    "s_data = pd.read_csv('2018_Central_Park_Squirrel_Census_-_Squirrel_Data.csv')\n",
    "\n",
    "column_names = s_data.columns.tolist()\n",
    "\n",
    "print(column_names)"
   ]
  },
  {
   "cell_type": "code",
   "execution_count": 106,
   "metadata": {},
   "outputs": [
    {
     "name": "stdout",
     "output_type": "stream",
     "text": [
      "  fur colors  colors\n",
      "0       gray    2473\n",
      "1   cinnamon     392\n",
      "2      black    2473\n"
     ]
    }
   ],
   "source": [
    "'''This is how I did this on my own'''\n",
    "gray_fur = len(s_data[s_data['Primary Fur Color'] == 'Gray'])\n",
    "# print(gray_fur)\n",
    "cinnamon_fur = len(s_data[s_data['Primary Fur Color'] == 'Cinnamon'])\n",
    "# print(cinnamon_fur)\n",
    "black_fur = len(s_data[s_data['Primary Fur Color'] == 'Black'])\n",
    "# print(black_fur)\n",
    "\n",
    "fur_data_dict = {\n",
    "    \"fur colors\": [\"gray\", \"cinnamon\", \"black\"],\n",
    "   \"colors\": [gray_fur, cinnamon_fur, gray_fur]\n",
    "}\n",
    "fur_dic = pd.DataFrame(fur_data_dict)\n",
    "print(fur_dic)\n",
    "\n"
   ]
  },
  {
   "cell_type": "code",
   "execution_count": 114,
   "metadata": {},
   "outputs": [],
   "source": [
    "'''This is how it was done in the video, but I did slightly change the variable names for ease of reference'''\n",
    "\n",
    "sq_data = pd.read_csv('2018_Central_Park_Squirrel_Census_-_Squirrel_Data.csv')\n",
    "gray_squirrels_count = len(sq_data[sq_data[\"Primary Fur Color\"] == \"Gray\"])\n",
    "# print(gray_squirrels_count)\n",
    "red_squirrels_count = len(sq_data[sq_data[\"Primary Fur Color\"] == \"Cinnamon\"])\n",
    "black_squirrels_count = len(sq_data[sq_data[\"Primary Fur Color\"] == \"Black\"])\n",
    "\n",
    "\n",
    "squirrel_data_dict = {\n",
    "    \"Fur Color\": [\"Gray\", \"Cinnamon\", \"Black\"],\n",
    "    \"Count\" : [gray_squirrels_count,red_squirrels_count, black_squirrels_count]\n",
    "}\n",
    "\n",
    "sqdf = pd.DataFrame(squirrel_data_dict)\n",
    "sqdf.to_csv(\"squirrel_data_dict.csv\")\n"
   ]
  }
 ],
 "metadata": {
  "kernelspec": {
   "display_name": ".venv",
   "language": "python",
   "name": "python3"
  },
  "language_info": {
   "codemirror_mode": {
    "name": "ipython",
    "version": 3
   },
   "file_extension": ".py",
   "mimetype": "text/x-python",
   "name": "python",
   "nbconvert_exporter": "python",
   "pygments_lexer": "ipython3",
   "version": "3.12.5"
  }
 },
 "nbformat": 4,
 "nbformat_minor": 2
}
